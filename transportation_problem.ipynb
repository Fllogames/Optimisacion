{
 "cells": [
  {
   "cell_type": "code",
   "execution_count": 2,
   "id": "4a3a3532",
   "metadata": {},
   "outputs": [
    {
     "name": "stdout",
     "output_type": "stream",
     "text": [
      "Initial Data:\n",
      "Supply: [10.  2.  4.  5.]\n",
      "Demand: [15.0, 25.0]\n",
      "Cost Matrix: [[15. 25.]\n",
      " [ 3.  1.]\n",
      " [ 8.  6.]\n",
      " [ 7.  9.]]\n",
      "\n",
      "Northwest Corner Rule:\n",
      "[[10.  0.]\n",
      " [ 2.  0.]\n",
      " [ 3.  1.]\n",
      " [ 0.  5.]]\n",
      "\n",
      "Transportation Simplex Algorithm:\n",
      "Transportation Simplex Algorithm placeholder\n",
      "[[10.  0.]\n",
      " [ 2.  0.]\n",
      " [ 3.  1.]\n",
      " [ 0.  5.]]\n"
     ]
    }
   ],
   "source": [
    "import pandas as pd\n",
    "import numpy as np\n",
    "\n",
    "# Function to read the external file and parse the transportation problem\n",
    "def read_transportation_file(file_path):\n",
    "    data = pd.read_csv(file_path, index_col=0)\n",
    "    supply = data.iloc[:, 0].to_numpy(dtype=float)  # Extract supply column as float\n",
    "    demand = [float(col.split()[1]) for col in data.columns[1:]]  # Extract numerical values from demand columns\n",
    "    cost_matrix = data.iloc[:, 1:].to_numpy(dtype=float)  # Extract cost matrix as float\n",
    "    return supply, demand, cost_matrix\n",
    "\n",
    "# Northwest Corner Rule implementation\n",
    "def northwest_corner(supply, demand):\n",
    "    supply = supply.copy()\n",
    "    demand = demand.copy()\n",
    "    allocation = np.zeros((len(supply), len(demand)))\n",
    "\n",
    "    for i in range(len(supply)):\n",
    "        for j in range(len(demand)):\n",
    "            if supply[i] == 0 or demand[j] == 0:\n",
    "                continue\n",
    "            allocated = min(supply[i], demand[j])\n",
    "            allocation[i, j] = allocated\n",
    "            supply[i] -= allocated\n",
    "            demand[j] -= allocated\n",
    "    return allocation\n",
    "\n",
    "# Transportation Simplex Algorithm\n",
    "def transportation_simplex(allocation, supply, demand, cost_matrix):\n",
    "    # Placeholder implementation\n",
    "    # Full implementation would involve the optimization phase using dual variables and pivoting\n",
    "    print(\"Transportation Simplex Algorithm placeholder\")\n",
    "    return allocation\n",
    "\n",
    "# Main workflow\n",
    "def main():\n",
    "    file_path = \"transportation_problem.csv\"  # Replace with the path to your input file\n",
    "    supply, demand, cost_matrix = read_transportation_file(file_path)\n",
    "\n",
    "    print(\"Initial Data:\")\n",
    "    print(\"Supply:\", supply)\n",
    "    print(\"Demand:\", demand)\n",
    "    print(\"Cost Matrix:\", cost_matrix)\n",
    "\n",
    "    print(\"\\nNorthwest Corner Rule:\")\n",
    "    nwc_allocation = northwest_corner(supply, demand)\n",
    "    print(nwc_allocation)\n",
    "\n",
    "    print(\"\\nTransportation Simplex Algorithm:\")\n",
    "    simplex_allocation = transportation_simplex(nwc_allocation, supply, demand, cost_matrix.copy())\n",
    "    print(simplex_allocation)\n",
    "\n",
    "if __name__ == \"__main__\":\n",
    "    main()\n"
   ]
  },
  {
   "cell_type": "code",
   "execution_count": null,
   "id": "ffbedba8",
   "metadata": {},
   "outputs": [],
   "source": []
  },
  {
   "cell_type": "code",
   "execution_count": null,
   "id": "9f819621",
   "metadata": {},
   "outputs": [],
   "source": []
  }
 ],
 "metadata": {
  "kernelspec": {
   "display_name": "Python 3 (ipykernel)",
   "language": "python",
   "name": "python3"
  },
  "language_info": {
   "codemirror_mode": {
    "name": "ipython",
    "version": 3
   },
   "file_extension": ".py",
   "mimetype": "text/x-python",
   "name": "python",
   "nbconvert_exporter": "python",
   "pygments_lexer": "ipython3",
   "version": "3.11.5"
  }
 },
 "nbformat": 4,
 "nbformat_minor": 5
}
